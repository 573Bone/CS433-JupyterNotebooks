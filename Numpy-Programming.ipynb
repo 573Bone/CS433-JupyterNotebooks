{
 "cells": [
  {
   "cell_type": "markdown",
   "metadata": {},
   "source": [
    "Using what we have learned in Numpy Module to analyze SP500.csv file with Numpy array \n",
    "operations.  Please find answers to the following questions:  \n",
    "    \n",
    "the highest daily gain and its date, the highest daily loss and its date, \n",
    "\n",
    "\n",
    "the most daily transaction volume and its date, \n",
    "\n",
    "a monthly report for year 2017-2018, which has monthly average open price, close price, transaction volume and gain/loss, and a query to find all of the months which have certain range of open prices \n",
    "\n",
    "a yearly report which has annual average open price, close price, transaction volume and gain/loss from 1950 to 2018, and the most profitable year, \n",
    "\n",
    "a every other five year report which has every five year average open price, close price, transaction volume and gain/loss from 1950 to 2018, and the most profitable five year, "
   ]
  },
  {
   "cell_type": "code",
   "execution_count": 15,
   "metadata": {},
   "outputs": [
    {
     "name": "stdout",
     "output_type": "stream",
     "text": [
      "('1950-01-04', 16.85, 16.85, 16.85, 16.85, 16.85, 1890000.)\n"
     ]
    }
   ],
   "source": [
    "import numpy as np\n",
    "import csv\n",
    "\n",
    "dataArray = np.loadtxt(\"SP500.csv\", dtype={'names': (\"b'date\",'Open', 'High', 'Low', 'Close', 'adj Close', 'Volume'),\n",
    "                                     'formats': ('U10', float, float, float, float, float, float)},\n",
    "                 delimiter=',',\n",
    "                 skiprows = 1,\n",
    "                 unpack = False)\n",
    "print(dataArray[1])"
   ]
  },
  {
   "cell_type": "code",
   "execution_count": null,
   "metadata": {},
   "outputs": [],
   "source": []
  }
 ],
 "metadata": {
  "kernelspec": {
   "display_name": "Python 3 (ipykernel)",
   "language": "python",
   "name": "python3"
  },
  "language_info": {
   "codemirror_mode": {
    "name": "ipython",
    "version": 3
   },
   "file_extension": ".py",
   "mimetype": "text/x-python",
   "name": "python",
   "nbconvert_exporter": "python",
   "pygments_lexer": "ipython3",
   "version": "3.10.5"
  },
  "vscode": {
   "interpreter": {
    "hash": "3440fa40ac2c39878b83ee7a6e81824601a62799733fc81e385c4ef9c8700d77"
   }
  }
 },
 "nbformat": 4,
 "nbformat_minor": 2
}
