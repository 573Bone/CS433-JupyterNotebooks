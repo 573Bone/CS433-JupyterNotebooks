{
 "cells": [
  {
   "attachments": {},
   "cell_type": "markdown",
   "metadata": {},
   "source": [
    "Using what we have learned in Numpy Module to analyze SP500.csv file with Numpy array \n",
    "operations.  Please find answers to the following questions:  \n",
    "    \n",
    "the highest daily gain and its date, the highest daily loss and its date, \n",
    "\n",
    "\n",
    "the most daily transaction volume and its date, \n",
    "\n",
    "a monthly report for year 2017-2018, which has monthly average open price, close price, transaction volume and gain/loss, and a query to find all of the months which have certain range of open prices \n",
    "\n",
    "a yearly report which has annual average open price, close price, transaction volume and gain/loss from 1950 to 2018, and the most profitable year, \n",
    "\n",
    "a every other five year report which has every five year average open price, close price, transaction volume and gain/loss from 1950 to 2018, and the most profitable five year, "
   ]
  },
  {
   "cell_type": "code",
   "execution_count": null,
   "metadata": {},
   "outputs": [],
   "source": [
    "import numpy as np\n",
    "import csv\n",
    "\n",
    "with open(\"SP500.csv\", \"r\") as f:\n",
    "    reader = csv.reader(f)\n",
    "    print(reader)\n",
    "    [print (row) for row in reader]"
   ]
  }
 ],
 "metadata": {
  "kernelspec": {
   "display_name": "Python 3",
   "language": "python",
   "name": "python3"
  },
  "language_info": {
   "name": "python",
   "version": "3.8.5"
  },
  "orig_nbformat": 4,
  "vscode": {
   "interpreter": {
    "hash": "3440fa40ac2c39878b83ee7a6e81824601a62799733fc81e385c4ef9c8700d77"
   }
  }
 },
 "nbformat": 4,
 "nbformat_minor": 2
}
