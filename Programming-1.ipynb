{
 "cells": [
  {
   "cell_type": "code",
   "execution_count": null,
   "id": "3c7356aa",
   "metadata": {},
   "outputs": [],
   "source": [
    "Group: Noah Little, Zach Healy, Jack Stout, Jacob Thieret, Justin Kehoe, Collyn Rouggly"
   ]
  },
  {
   "cell_type": "markdown",
   "id": "8877d9b3",
   "metadata": {},
   "source": [
    "### Write a Python program to count the number of strings where the string length is 2 or more and the string is a palindrome from the list of strings. "
   ]
  },
  {
   "cell_type": "code",
   "execution_count": 6,
   "id": "ab1e843d",
   "metadata": {},
   "outputs": [
    {
     "name": "stdout",
     "output_type": "stream",
     "text": [
      "2\n"
     ]
    }
   ],
   "source": [
    "def count_palindromes(input):\n",
    "    out = 0\n",
    "  \n",
    "    for str in input:\n",
    "        if len(str) >= 2 and str == str[::-1]:\n",
    "            out += 1\n",
    "    return out\n",
    "\n",
    "\n",
    "\n",
    "\n",
    "\n",
    "plaindrome_strings = ['test', 'racecar', 'bbb', '12345']\n",
    "  \n",
    "print(count_palindromes(plaindrome_strings))"
   ]
  },
  {
   "cell_type": "markdown",
   "id": "ccd1945e",
   "metadata": {},
   "source": [
    "### Write a Python function that takes two lists and returns the number of common members "
   ]
  },
  {
   "cell_type": "code",
   "execution_count": 9,
   "id": "c249a2df",
   "metadata": {},
   "outputs": [
    {
     "name": "stdout",
     "output_type": "stream",
     "text": [
      "1\n"
     ]
    }
   ],
   "source": [
    "def common_members(list1, list2):\n",
    "    out = 0\n",
    "  \n",
    "    for val in list1:\n",
    "        if val in list2:\n",
    "            out += 1\n",
    "          \n",
    "    return out\n",
    "\n",
    "common_list1 = [1, 2, 3, 4, 5]\n",
    "common_list2 = [5, 6, 7, 8, 9]\n",
    "\n",
    "print(common_members(common_list1, common_list2))"
   ]
  },
  {
   "cell_type": "markdown",
   "id": "ce323807",
   "metadata": {},
   "source": [
    "### Write a Python program to split a list into a list of dictionaries, with odd item as key and even item as value "
   ]
  },
  {
   "cell_type": "code",
   "execution_count": 8,
   "id": "65ef6aad",
   "metadata": {},
   "outputs": [
    {
     "name": "stdout",
     "output_type": "stream",
     "text": [
      "[{'a': 'b'}, {'c': 'd'}, {'test': 'value'}, {'key': 'even'}]\n"
     ]
    }
   ],
   "source": [
    "def list_to_dict(input_list):\n",
    "    out = []\n",
    "  \n",
    "    for i in range(0, len(input_list), 2):\n",
    "        out.append({input_list[i]: input_list[i+1]})\n",
    "      \n",
    "    return out\n",
    "\n",
    "\n",
    "list = ['a', 'b', 'c', 'd', 'test', 'value', 'key', 'even']\n",
    "  \n",
    "print(list_to_dict(list))"
   ]
  },
  {
   "cell_type": "markdown",
   "id": "5b6d0db9",
   "metadata": {},
   "source": [
    "### Write a Python program to find a word which has the most number of letters from a list of words. "
   ]
  },
  {
   "cell_type": "code",
   "execution_count": 2,
   "id": "5b78f8ee",
   "metadata": {},
   "outputs": [
    {
     "name": "stdout",
     "output_type": "stream",
     "text": [
      "superlongword\n"
     ]
    }
   ],
   "source": [
    "def get_letters(word):\n",
    "    out = 0\n",
    "    \n",
    "    for i in word:\n",
    "        out += 1\n",
    "        \n",
    "    return out\n",
    "\n",
    "def get_most_letters(words):\n",
    "    out = \"\"\n",
    "    high = 0\n",
    "    \n",
    "    for word in words:\n",
    "        if get_letters(word) > high:\n",
    "            out = word\n",
    "            high = get_letters(word)\n",
    "            \n",
    "    return out\n",
    "\n",
    "list = [\"test\", \"superlongword\", \"cat\", \"apple\"]\n",
    "\n",
    "print(get_most_letters(list))"
   ]
  },
  {
   "cell_type": "markdown",
   "id": "1dc603c5",
   "metadata": {},
   "source": [
    "### Write a Python program to print all common values in a dictionary "
   ]
  },
  {
   "cell_type": "code",
   "execution_count": 6,
   "id": "a1051b35",
   "metadata": {},
   "outputs": [
    {
     "name": "stdout",
     "output_type": "stream",
     "text": [
      "[2, 4]\n"
     ]
    }
   ],
   "source": [
    "def common_members(dict1, dict2):\n",
    "    out = []\n",
    "    \n",
    "    for val in dict1.values():\n",
    "        if val in dict2.values():\n",
    "            out.append(val)\n",
    "            \n",
    "    return out\n",
    "\n",
    "dict1 = {'abc':1, 'def':2, 'ghi':3, 'jkl':4}\n",
    "dict2 = {'mno':4, 'pqr':2, 'stu':6, 'vwx':7}\n",
    "\n",
    "print(common_members(dict1, dict2))"
   ]
  },
  {
   "cell_type": "markdown",
   "id": "8585bd60",
   "metadata": {},
   "source": [
    "### Write a Python program to combine two dictionaries based on their keys, if two keys are the same, sum their values together "
   ]
  },
  {
   "cell_type": "code",
   "execution_count": 7,
   "id": "0b0f1536",
   "metadata": {},
   "outputs": [
    {
     "name": "stdout",
     "output_type": "stream",
     "text": [
      "{'key1': 6, 'key2': 2, 'key3': 7, 'key4': 6}\n"
     ]
    }
   ],
   "source": [
    "def combine_or_sum_dicts(dict1, dict2):\n",
    "    out = {}\n",
    "    \n",
    "    for key in dict1:\n",
    "        if key in dict2:\n",
    "            out[key] = dict1[key] + dict2[key]\n",
    "        else:\n",
    "            out[key] = dict1[key]\n",
    "    for key in dict2:\n",
    "        if key not in out:\n",
    "            out[key] = dict2[key]\n",
    "    return out\n",
    "\n",
    "dict1 = {'key1': 1, 'key2': 2, 'key3': 3}\n",
    "dict2 = {'key3': 4, 'key1': 5, 'key4': 6}\n",
    "\n",
    "print(combine_or_sum_dicts(dict1, dict2))"
   ]
  },
  {
   "cell_type": "markdown",
   "id": "4dff47b7",
   "metadata": {},
   "source": [
    "### Write a Python program to remove tuple(s) which has certain given value from a list of tuples "
   ]
  },
  {
   "cell_type": "code",
   "execution_count": 11,
   "id": "87b60ab3",
   "metadata": {},
   "outputs": [
    {
     "name": "stdout",
     "output_type": "stream",
     "text": [
      "[('abc', 1), ('jkl', 2)]\n"
     ]
    }
   ],
   "source": [
    "def filter_tuples(tuples_list, value):\n",
    "    out = []\n",
    "    for tupleX in tuples_list:\n",
    "        if filter_value not in tupleX:\n",
    "            out.append(tupleX)\n",
    "            \n",
    "    return out\n",
    "\n",
    "tuples = [('abc', 1), ('def', 3), ('ghi', 3), ('jkl', 2)]\n",
    "filter_value = 3\n",
    "\n",
    "print(filter_tuples(tuples, filter_value))"
   ]
  },
  {
   "cell_type": "markdown",
   "id": "2af9790a",
   "metadata": {},
   "source": [
    "### Write a Python program to sort a list of tuples by the first element in the tuple "
   ]
  },
  {
   "cell_type": "code",
   "execution_count": 16,
   "id": "43064995",
   "metadata": {},
   "outputs": [
    {
     "name": "stdout",
     "output_type": "stream",
     "text": [
      "[('abc', 1), ('def', 3), ('ghi', 3), ('jkl', 2)]\n"
     ]
    }
   ],
   "source": [
    "def sort_tuples(tuples):\n",
    "    for i in range(len(tuples)):\n",
    "        for j in range(i+1, len(tuples)):\n",
    "            if tuples[i][0] > tuples[j][0]:\n",
    "                tuples[i], tuples[j] = tuples[j], tuples[i]\n",
    "                \n",
    "    return tuples\n",
    "\n",
    "tuples = [('abc', 1), ('ghi', 3), ('def', 3), ('jkl', 2)]\n",
    "\n",
    "print(sort_tuples(tuples))"
   ]
  }
 ],
 "metadata": {
  "kernelspec": {
   "display_name": "Python 3",
   "language": "python",
   "name": "python3"
  },
  "language_info": {
   "codemirror_mode": {
    "name": "ipython",
    "version": 3
   },
   "file_extension": ".py",
   "mimetype": "text/x-python",
   "name": "python",
   "nbconvert_exporter": "python",
   "pygments_lexer": "ipython3",
   "version": "3.10.9 (tags/v3.10.9:1dd9be6, Dec  6 2022, 20:01:21) [MSC v.1934 64 bit (AMD64)]"
  },
  "vscode": {
   "interpreter": {
    "hash": "509a0412fec2797376ec7c65fd1a8ebeaab4056fcd88ea6df8fa9b9accf985d3"
   }
  }
 },
 "nbformat": 4,
 "nbformat_minor": 5
}
