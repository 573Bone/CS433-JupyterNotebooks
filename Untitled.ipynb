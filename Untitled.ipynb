{
 "cells": [
  {
   "cell_type": "markdown",
   "id": "39ca7aa5",
   "metadata": {},
   "source": [
    "##### Group: Noah Little, Zach Healy, Jack Stout, Jacob Thieret, Justin Kehoe, Collyn Rouggly, Momoh Brema"
   ]
  },
  {
   "cell_type": "markdown",
   "id": "d2fcd18d",
   "metadata": {},
   "source": [
    "### Part I"
   ]
  },
  {
   "cell_type": "code",
   "execution_count": null,
   "id": "3e9f1dee",
   "metadata": {},
   "outputs": [],
   "source": [
    "import pandas as pd\n",
    "\n",
    "df = pd.read_csv('BL-Flickr-Images-Book.csv')\n",
    "\n",
    "df['Title'] = df['Title'].str.replace(r'\\..*', '.', regex=True)\n",
    "df['Title'] = df['Title'].str.replace(r'[\\[\\]]', '', regex=True)\n",
    "\n",
    "\n",
    "\n",
    "df.to_csv('Cleaned-BL-Flickr-Images-Book.csv', index=False)"
   ]
  },
  {
   "cell_type": "markdown",
   "id": "ba6984da",
   "metadata": {},
   "source": [
    "### Part II"
   ]
  },
  {
   "cell_type": "code",
   "execution_count": null,
   "id": "0bb08f2a",
   "metadata": {},
   "outputs": [],
   "source": []
  }
 ],
 "metadata": {
  "kernelspec": {
   "display_name": "Python 3 (ipykernel)",
   "language": "python",
   "name": "python3"
  },
  "language_info": {
   "codemirror_mode": {
    "name": "ipython",
    "version": 3
   },
   "file_extension": ".py",
   "mimetype": "text/x-python",
   "name": "python",
   "nbconvert_exporter": "python",
   "pygments_lexer": "ipython3",
   "version": "3.8.5"
  }
 },
 "nbformat": 4,
 "nbformat_minor": 5
}
