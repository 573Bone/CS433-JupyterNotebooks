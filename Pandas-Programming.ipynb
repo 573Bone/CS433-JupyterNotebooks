{
 "cells": [
  {
   "attachments": {},
   "cell_type": "markdown",
   "id": "b4480f00",
   "metadata": {},
   "source": [
    "#### 1. Generate a brief statistic summary for corresponding data "
   ]
  },
  {
   "cell_type": "code",
   "execution_count": 3,
   "id": "7a091479",
   "metadata": {},
   "outputs": [
    {
     "data": {
      "text/html": [
       "<div>\n",
       "<style scoped>\n",
       "    .dataframe tbody tr th:only-of-type {\n",
       "        vertical-align: middle;\n",
       "    }\n",
       "\n",
       "    .dataframe tbody tr th {\n",
       "        vertical-align: top;\n",
       "    }\n",
       "\n",
       "    .dataframe thead th {\n",
       "        text-align: right;\n",
       "    }\n",
       "</style>\n",
       "<table border=\"1\" class=\"dataframe\">\n",
       "  <thead>\n",
       "    <tr style=\"text-align: right;\">\n",
       "      <th></th>\n",
       "      <th>Open</th>\n",
       "      <th>High</th>\n",
       "      <th>Low</th>\n",
       "      <th>Close</th>\n",
       "      <th>Adj Close</th>\n",
       "      <th>Volume</th>\n",
       "    </tr>\n",
       "  </thead>\n",
       "  <tbody>\n",
       "    <tr>\n",
       "      <th>count</th>\n",
       "      <td>17191.000000</td>\n",
       "      <td>17191.000000</td>\n",
       "      <td>17191.000000</td>\n",
       "      <td>17191.000000</td>\n",
       "      <td>17191.000000</td>\n",
       "      <td>1.719100e+04</td>\n",
       "    </tr>\n",
       "    <tr>\n",
       "      <th>mean</th>\n",
       "      <td>546.966024</td>\n",
       "      <td>550.229233</td>\n",
       "      <td>543.522697</td>\n",
       "      <td>547.091391</td>\n",
       "      <td>547.091391</td>\n",
       "      <td>8.945411e+08</td>\n",
       "    </tr>\n",
       "    <tr>\n",
       "      <th>std</th>\n",
       "      <td>643.238592</td>\n",
       "      <td>646.567762</td>\n",
       "      <td>639.645155</td>\n",
       "      <td>643.342927</td>\n",
       "      <td>643.342927</td>\n",
       "      <td>1.531001e+09</td>\n",
       "    </tr>\n",
       "    <tr>\n",
       "      <th>min</th>\n",
       "      <td>16.660000</td>\n",
       "      <td>16.660000</td>\n",
       "      <td>16.660000</td>\n",
       "      <td>16.660000</td>\n",
       "      <td>16.660000</td>\n",
       "      <td>6.800000e+05</td>\n",
       "    </tr>\n",
       "    <tr>\n",
       "      <th>25%</th>\n",
       "      <td>85.419998</td>\n",
       "      <td>86.130001</td>\n",
       "      <td>84.760002</td>\n",
       "      <td>85.424999</td>\n",
       "      <td>85.424999</td>\n",
       "      <td>8.685000e+06</td>\n",
       "    </tr>\n",
       "    <tr>\n",
       "      <th>50%</th>\n",
       "      <td>164.369995</td>\n",
       "      <td>165.050003</td>\n",
       "      <td>163.710007</td>\n",
       "      <td>164.289993</td>\n",
       "      <td>164.289993</td>\n",
       "      <td>8.794000e+07</td>\n",
       "    </tr>\n",
       "    <tr>\n",
       "      <th>75%</th>\n",
       "      <td>1073.684998</td>\n",
       "      <td>1082.705017</td>\n",
       "      <td>1065.224976</td>\n",
       "      <td>1073.669983</td>\n",
       "      <td>1073.669983</td>\n",
       "      <td>1.110950e+09</td>\n",
       "    </tr>\n",
       "    <tr>\n",
       "      <th>max</th>\n",
       "      <td>2867.229980</td>\n",
       "      <td>2872.870117</td>\n",
       "      <td>2851.479980</td>\n",
       "      <td>2872.870117</td>\n",
       "      <td>2872.870117</td>\n",
       "      <td>1.145623e+10</td>\n",
       "    </tr>\n",
       "  </tbody>\n",
       "</table>\n",
       "</div>"
      ],
      "text/plain": [
       "               Open          High           Low         Close     Adj Close  \\\n",
       "count  17191.000000  17191.000000  17191.000000  17191.000000  17191.000000   \n",
       "mean     546.966024    550.229233    543.522697    547.091391    547.091391   \n",
       "std      643.238592    646.567762    639.645155    643.342927    643.342927   \n",
       "min       16.660000     16.660000     16.660000     16.660000     16.660000   \n",
       "25%       85.419998     86.130001     84.760002     85.424999     85.424999   \n",
       "50%      164.369995    165.050003    163.710007    164.289993    164.289993   \n",
       "75%     1073.684998   1082.705017   1065.224976   1073.669983   1073.669983   \n",
       "max     2867.229980   2872.870117   2851.479980   2872.870117   2872.870117   \n",
       "\n",
       "             Volume  \n",
       "count  1.719100e+04  \n",
       "mean   8.945411e+08  \n",
       "std    1.531001e+09  \n",
       "min    6.800000e+05  \n",
       "25%    8.685000e+06  \n",
       "50%    8.794000e+07  \n",
       "75%    1.110950e+09  \n",
       "max    1.145623e+10  "
      ]
     },
     "execution_count": 3,
     "metadata": {},
     "output_type": "execute_result"
    }
   ],
   "source": [
    "import pandas as pd\n",
    "\n",
    "# Generate a brief statistic summary for corresponding data \n",
    "df = pd.read_csv(\"SP500.csv\")\n",
    "df.describe()\n",
    "\n"
   ]
  },
  {
   "attachments": {},
   "cell_type": "markdown",
   "id": "046a22b3",
   "metadata": {},
   "source": [
    "#### 2. Sort daily gain/loss for January of 2018 and store the result back to a .csv file "
   ]
  },
  {
   "cell_type": "code",
   "execution_count": 8,
   "id": "9ec766bd",
   "metadata": {},
   "outputs": [
    {
     "name": "stderr",
     "output_type": "stream",
     "text": [
      "C:\\Users\\jacob\\AppData\\Local\\Temp\\ipykernel_14244\\914324265.py:3: SettingWithCopyWarning: \n",
      "A value is trying to be set on a copy of a slice from a DataFrame.\n",
      "Try using .loc[row_indexer,col_indexer] = value instead\n",
      "\n",
      "See the caveats in the documentation: https://pandas.pydata.org/pandas-docs/stable/user_guide/indexing.html#returning-a-view-versus-a-copy\n",
      "  df_january.loc[:, 'Gain/Loss'] = df_january['Close'] - df_january['Open']\n"
     ]
    }
   ],
   "source": [
    "df = pd.read_csv(\"SP500.csv\")\n",
    "df_january = df[df['Date'].str.startswith('2018-01')]\n",
    "\n",
    "# Calculate daily gain/loss, store it to new column\n",
    "df_january.loc[:, 'Gain/Loss'] = df_january['Close'] - df_january['Open']\n",
    "\n",
    "df_sorted = df_january.sort_values(by='Gain/Loss', ascending=False)\n",
    "\n",
    "df_sorted.to_csv('pandas_2_output.csv', index=False)"
   ]
  },
  {
   "attachments": {},
   "cell_type": "markdown",
   "id": "3070c3ca",
   "metadata": {},
   "source": [
    "#### 3. Find all of the daily gains reach 20% and above and display them "
   ]
  },
  {
   "cell_type": "code",
   "execution_count": 38,
   "id": "be21df09",
   "metadata": {},
   "outputs": [
    {
     "name": "stdout",
     "output_type": "stream",
     "text": [
      "             Date        Open       High        Low      Close  Adj Close  \\\n",
      "14800  2008-10-28  848.919983  940.51001  845.27002  940.51001  940.51001   \n",
      "\n",
      "           Volume  Daily Gain  \n",
      "14800  7096950000   10.789006  \n"
     ]
    }
   ],
   "source": [
    "df = pd.read_csv(\"SP500.csv\")\n",
    "df['Daily Gain'] = (df['Close'] - df['Open']) / df['Open'] * 100\n",
    "\n",
    "# no values come up for anything over 10. Might be my error or there aren't any 20% gains\n",
    "df_filtered = df[df['Daily Gain'] >= 10]\n",
    "\n",
    "print(df_filtered)"
   ]
  },
  {
   "attachments": {},
   "cell_type": "markdown",
   "id": "0361ed99",
   "metadata": {},
   "source": [
    "#### 4. The highest daily gain and its date, the highest daily loss and its date"
   ]
  },
  {
   "cell_type": "code",
   "execution_count": null,
   "id": "6ff6be50",
   "metadata": {},
   "outputs": [],
   "source": []
  },
  {
   "attachments": {},
   "cell_type": "markdown",
   "id": "7b3a0ff7",
   "metadata": {},
   "source": [
    "#### 5. The most daily transaction volume and its date"
   ]
  },
  {
   "cell_type": "code",
   "execution_count": null,
   "id": "bba78431",
   "metadata": {},
   "outputs": [],
   "source": []
  },
  {
   "attachments": {},
   "cell_type": "markdown",
   "id": "10c43e29",
   "metadata": {},
   "source": [
    "#### 6. A monthly report for year 2017-2018, which has monthly average open price, close price, transaction volume and gain/loss, and a query to find all of the months which have certain range of open prices"
   ]
  },
  {
   "cell_type": "code",
   "execution_count": null,
   "id": "5fd666db",
   "metadata": {},
   "outputs": [],
   "source": []
  },
  {
   "attachments": {},
   "cell_type": "markdown",
   "id": "ed365f0b",
   "metadata": {},
   "source": [
    "#### 7. A yearly report which has annual average open price, close price, transaction volume and gain/loss from 1950 to 2018, and the most profitable year"
   ]
  },
  {
   "cell_type": "code",
   "execution_count": null,
   "id": "f7609061",
   "metadata": {},
   "outputs": [],
   "source": []
  },
  {
   "attachments": {},
   "cell_type": "markdown",
   "id": "2ba40ebb",
   "metadata": {},
   "source": [
    "#### 8. A every other five year report which has every five year average open price, close price, transaction volume and gain/loss from 1950 to 2018, and the most profitable five year"
   ]
  },
  {
   "cell_type": "code",
   "execution_count": null,
   "id": "55bdd52e",
   "metadata": {},
   "outputs": [],
   "source": []
  },
  {
   "attachments": {},
   "cell_type": "markdown",
   "id": "f919fd42",
   "metadata": {},
   "source": [
    "#### note: Using what we have learned in Unit5 of Pandas to analyze __Sacramentorealestatetransactions.csv__ file with Series and DataFrame operations. Please find answers to the following questions: \n"
   ]
  },
  {
   "attachments": {},
   "cell_type": "markdown",
   "id": "42ecc381",
   "metadata": {},
   "source": [
    "#### 9. Regroup the data first by city name, then by type "
   ]
  },
  {
   "cell_type": "code",
   "execution_count": null,
   "id": "086ad622",
   "metadata": {},
   "outputs": [],
   "source": []
  },
  {
   "attachments": {},
   "cell_type": "markdown",
   "id": "511fb965",
   "metadata": {},
   "source": [
    "#### 10. For each city, each type, find the highest, median and lowest transactions "
   ]
  },
  {
   "cell_type": "code",
   "execution_count": null,
   "id": "b0f09dbf",
   "metadata": {},
   "outputs": [],
   "source": []
  },
  {
   "attachments": {},
   "cell_type": "markdown",
   "id": "23f23054",
   "metadata": {},
   "source": [
    "#### 11. For each zipcode and each type, find average transactions "
   ]
  },
  {
   "cell_type": "code",
   "execution_count": null,
   "id": "230275df",
   "metadata": {},
   "outputs": [],
   "source": []
  }
 ],
 "metadata": {
  "kernelspec": {
   "display_name": "Python 3",
   "language": "python",
   "name": "python3"
  },
  "language_info": {
   "codemirror_mode": {
    "name": "ipython",
    "version": 3
   },
   "file_extension": ".py",
   "mimetype": "text/x-python",
   "name": "python",
   "nbconvert_exporter": "python",
   "pygments_lexer": "ipython3",
   "version": "3.10.10"
  },
  "vscode": {
   "interpreter": {
    "hash": "509a0412fec2797376ec7c65fd1a8ebeaab4056fcd88ea6df8fa9b9accf985d3"
   }
  }
 },
 "nbformat": 4,
 "nbformat_minor": 5
}
