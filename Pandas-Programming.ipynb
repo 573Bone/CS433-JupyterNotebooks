{
 "cells": [
  {
   "attachments": {},
   "cell_type": "markdown",
   "id": "b4480f00",
   "metadata": {},
   "source": [
    "#### 1. Generate a brief statistic summary for corresponding data "
   ]
  },
  {
   "cell_type": "code",
   "execution_count": 3,
   "id": "7a091479",
   "metadata": {},
   "outputs": [
    {
     "data": {
      "text/html": [
       "<div>\n",
       "<style scoped>\n",
       "    .dataframe tbody tr th:only-of-type {\n",
       "        vertical-align: middle;\n",
       "    }\n",
       "\n",
       "    .dataframe tbody tr th {\n",
       "        vertical-align: top;\n",
       "    }\n",
       "\n",
       "    .dataframe thead th {\n",
       "        text-align: right;\n",
       "    }\n",
       "</style>\n",
       "<table border=\"1\" class=\"dataframe\">\n",
       "  <thead>\n",
       "    <tr style=\"text-align: right;\">\n",
       "      <th></th>\n",
       "      <th>Open</th>\n",
       "      <th>High</th>\n",
       "      <th>Low</th>\n",
       "      <th>Close</th>\n",
       "      <th>Adj Close</th>\n",
       "      <th>Volume</th>\n",
       "    </tr>\n",
       "  </thead>\n",
       "  <tbody>\n",
       "    <tr>\n",
       "      <th>count</th>\n",
       "      <td>17191.000000</td>\n",
       "      <td>17191.000000</td>\n",
       "      <td>17191.000000</td>\n",
       "      <td>17191.000000</td>\n",
       "      <td>17191.000000</td>\n",
       "      <td>1.719100e+04</td>\n",
       "    </tr>\n",
       "    <tr>\n",
       "      <th>mean</th>\n",
       "      <td>546.966024</td>\n",
       "      <td>550.229233</td>\n",
       "      <td>543.522697</td>\n",
       "      <td>547.091391</td>\n",
       "      <td>547.091391</td>\n",
       "      <td>8.945411e+08</td>\n",
       "    </tr>\n",
       "    <tr>\n",
       "      <th>std</th>\n",
       "      <td>643.238592</td>\n",
       "      <td>646.567762</td>\n",
       "      <td>639.645155</td>\n",
       "      <td>643.342927</td>\n",
       "      <td>643.342927</td>\n",
       "      <td>1.531001e+09</td>\n",
       "    </tr>\n",
       "    <tr>\n",
       "      <th>min</th>\n",
       "      <td>16.660000</td>\n",
       "      <td>16.660000</td>\n",
       "      <td>16.660000</td>\n",
       "      <td>16.660000</td>\n",
       "      <td>16.660000</td>\n",
       "      <td>6.800000e+05</td>\n",
       "    </tr>\n",
       "    <tr>\n",
       "      <th>25%</th>\n",
       "      <td>85.419998</td>\n",
       "      <td>86.130001</td>\n",
       "      <td>84.760002</td>\n",
       "      <td>85.424999</td>\n",
       "      <td>85.424999</td>\n",
       "      <td>8.685000e+06</td>\n",
       "    </tr>\n",
       "    <tr>\n",
       "      <th>50%</th>\n",
       "      <td>164.369995</td>\n",
       "      <td>165.050003</td>\n",
       "      <td>163.710007</td>\n",
       "      <td>164.289993</td>\n",
       "      <td>164.289993</td>\n",
       "      <td>8.794000e+07</td>\n",
       "    </tr>\n",
       "    <tr>\n",
       "      <th>75%</th>\n",
       "      <td>1073.684998</td>\n",
       "      <td>1082.705017</td>\n",
       "      <td>1065.224976</td>\n",
       "      <td>1073.669983</td>\n",
       "      <td>1073.669983</td>\n",
       "      <td>1.110950e+09</td>\n",
       "    </tr>\n",
       "    <tr>\n",
       "      <th>max</th>\n",
       "      <td>2867.229980</td>\n",
       "      <td>2872.870117</td>\n",
       "      <td>2851.479980</td>\n",
       "      <td>2872.870117</td>\n",
       "      <td>2872.870117</td>\n",
       "      <td>1.145623e+10</td>\n",
       "    </tr>\n",
       "  </tbody>\n",
       "</table>\n",
       "</div>"
      ],
      "text/plain": [
       "               Open          High           Low         Close     Adj Close  \\\n",
       "count  17191.000000  17191.000000  17191.000000  17191.000000  17191.000000   \n",
       "mean     546.966024    550.229233    543.522697    547.091391    547.091391   \n",
       "std      643.238592    646.567762    639.645155    643.342927    643.342927   \n",
       "min       16.660000     16.660000     16.660000     16.660000     16.660000   \n",
       "25%       85.419998     86.130001     84.760002     85.424999     85.424999   \n",
       "50%      164.369995    165.050003    163.710007    164.289993    164.289993   \n",
       "75%     1073.684998   1082.705017   1065.224976   1073.669983   1073.669983   \n",
       "max     2867.229980   2872.870117   2851.479980   2872.870117   2872.870117   \n",
       "\n",
       "             Volume  \n",
       "count  1.719100e+04  \n",
       "mean   8.945411e+08  \n",
       "std    1.531001e+09  \n",
       "min    6.800000e+05  \n",
       "25%    8.685000e+06  \n",
       "50%    8.794000e+07  \n",
       "75%    1.110950e+09  \n",
       "max    1.145623e+10  "
      ]
     },
     "execution_count": 3,
     "metadata": {},
     "output_type": "execute_result"
    }
   ],
   "source": [
    "import pandas as pd\n",
    "\n",
    "# Generate a brief statistic summary for corresponding data \n",
    "df = pd.read_csv(\"SP500.csv\")\n",
    "df.describe()\n",
    "\n"
   ]
  },
  {
   "attachments": {},
   "cell_type": "markdown",
   "id": "046a22b3",
   "metadata": {},
   "source": [
    "#### Sort daily gain/loss for January of 2018 and store the result back to a .csv file "
   ]
  },
  {
   "cell_type": "code",
   "execution_count": null,
   "id": "9ec766bd",
   "metadata": {},
   "outputs": [],
   "source": []
  },
  {
   "attachments": {},
   "cell_type": "markdown",
   "id": "3070c3ca",
   "metadata": {},
   "source": [
    "#### Find all of the daily gains reach 20% and above and display them "
   ]
  },
  {
   "cell_type": "code",
   "execution_count": null,
   "id": "be21df09",
   "metadata": {},
   "outputs": [],
   "source": []
  },
  {
   "attachments": {},
   "cell_type": "markdown",
   "id": "0361ed99",
   "metadata": {},
   "source": [
    "#### The highest daily gain and its date, the highest daily loss and its date"
   ]
  },
  {
   "cell_type": "code",
   "execution_count": null,
   "id": "6ff6be50",
   "metadata": {},
   "outputs": [],
   "source": []
  },
  {
   "attachments": {},
   "cell_type": "markdown",
   "id": "7b3a0ff7",
   "metadata": {},
   "source": [
    "#### The most daily transaction volume and its date"
   ]
  },
  {
   "cell_type": "code",
   "execution_count": null,
   "id": "bba78431",
   "metadata": {},
   "outputs": [],
   "source": []
  },
  {
   "attachments": {},
   "cell_type": "markdown",
   "id": "10c43e29",
   "metadata": {},
   "source": [
    "#### A monthly report for year 2017-2018, which has monthly average open price, close price, transaction volume and gain/loss, and a query to find all of the months which have certain range of open prices"
   ]
  },
  {
   "cell_type": "code",
   "execution_count": null,
   "id": "5fd666db",
   "metadata": {},
   "outputs": [],
   "source": []
  },
  {
   "attachments": {},
   "cell_type": "markdown",
   "id": "ed365f0b",
   "metadata": {},
   "source": [
    "#### A yearly report which has annual average open price, close price, transaction volume and gain/loss from 1950 to 2018, and the most profitable year"
   ]
  },
  {
   "cell_type": "code",
   "execution_count": null,
   "id": "f7609061",
   "metadata": {},
   "outputs": [],
   "source": []
  },
  {
   "attachments": {},
   "cell_type": "markdown",
   "id": "2ba40ebb",
   "metadata": {},
   "source": [
    "A every other five year report which has every five year average open price, close price, transaction volume and gain/loss from 1950 to 2018, and the most profitable five year"
   ]
  }
 ],
 "metadata": {
  "kernelspec": {
   "display_name": "Python 3",
   "language": "python",
   "name": "python3"
  },
  "language_info": {
   "codemirror_mode": {
    "name": "ipython",
    "version": 3
   },
   "file_extension": ".py",
   "mimetype": "text/x-python",
   "name": "python",
   "nbconvert_exporter": "python",
   "pygments_lexer": "ipython3",
   "version": "3.10.10"
  },
  "vscode": {
   "interpreter": {
    "hash": "509a0412fec2797376ec7c65fd1a8ebeaab4056fcd88ea6df8fa9b9accf985d3"
   }
  }
 },
 "nbformat": 4,
 "nbformat_minor": 5
}
