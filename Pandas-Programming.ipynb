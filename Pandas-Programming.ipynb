{
 "cells": [
  {
   "cell_type": "markdown",
   "id": "b4480f00",
   "metadata": {},
   "source": [
    "#### 1. Generate a brief statistic summary for corresponding data "
   ]
  },
  {
   "cell_type": "code",
   "execution_count": 2,
   "id": "7a091479",
   "metadata": {},
   "outputs": [
    {
     "data": {
      "text/html": [
       "<div>\n",
       "<style scoped>\n",
       "    .dataframe tbody tr th:only-of-type {\n",
       "        vertical-align: middle;\n",
       "    }\n",
       "\n",
       "    .dataframe tbody tr th {\n",
       "        vertical-align: top;\n",
       "    }\n",
       "\n",
       "    .dataframe thead th {\n",
       "        text-align: right;\n",
       "    }\n",
       "</style>\n",
       "<table border=\"1\" class=\"dataframe\">\n",
       "  <thead>\n",
       "    <tr style=\"text-align: right;\">\n",
       "      <th></th>\n",
       "      <th>Open</th>\n",
       "      <th>High</th>\n",
       "      <th>Low</th>\n",
       "      <th>Close</th>\n",
       "      <th>Adj Close</th>\n",
       "      <th>Volume</th>\n",
       "    </tr>\n",
       "  </thead>\n",
       "  <tbody>\n",
       "    <tr>\n",
       "      <th>count</th>\n",
       "      <td>17191.000000</td>\n",
       "      <td>17191.000000</td>\n",
       "      <td>17191.000000</td>\n",
       "      <td>17191.000000</td>\n",
       "      <td>17191.000000</td>\n",
       "      <td>1.719100e+04</td>\n",
       "    </tr>\n",
       "    <tr>\n",
       "      <th>mean</th>\n",
       "      <td>546.966024</td>\n",
       "      <td>550.229233</td>\n",
       "      <td>543.522697</td>\n",
       "      <td>547.091391</td>\n",
       "      <td>547.091391</td>\n",
       "      <td>8.945411e+08</td>\n",
       "    </tr>\n",
       "    <tr>\n",
       "      <th>std</th>\n",
       "      <td>643.238592</td>\n",
       "      <td>646.567762</td>\n",
       "      <td>639.645155</td>\n",
       "      <td>643.342927</td>\n",
       "      <td>643.342927</td>\n",
       "      <td>1.531001e+09</td>\n",
       "    </tr>\n",
       "    <tr>\n",
       "      <th>min</th>\n",
       "      <td>16.660000</td>\n",
       "      <td>16.660000</td>\n",
       "      <td>16.660000</td>\n",
       "      <td>16.660000</td>\n",
       "      <td>16.660000</td>\n",
       "      <td>6.800000e+05</td>\n",
       "    </tr>\n",
       "    <tr>\n",
       "      <th>25%</th>\n",
       "      <td>85.419998</td>\n",
       "      <td>86.130001</td>\n",
       "      <td>84.760002</td>\n",
       "      <td>85.424999</td>\n",
       "      <td>85.424999</td>\n",
       "      <td>8.685000e+06</td>\n",
       "    </tr>\n",
       "    <tr>\n",
       "      <th>50%</th>\n",
       "      <td>164.369995</td>\n",
       "      <td>165.050003</td>\n",
       "      <td>163.710007</td>\n",
       "      <td>164.289993</td>\n",
       "      <td>164.289993</td>\n",
       "      <td>8.794000e+07</td>\n",
       "    </tr>\n",
       "    <tr>\n",
       "      <th>75%</th>\n",
       "      <td>1073.684998</td>\n",
       "      <td>1082.705017</td>\n",
       "      <td>1065.224976</td>\n",
       "      <td>1073.669983</td>\n",
       "      <td>1073.669983</td>\n",
       "      <td>1.110950e+09</td>\n",
       "    </tr>\n",
       "    <tr>\n",
       "      <th>max</th>\n",
       "      <td>2867.229980</td>\n",
       "      <td>2872.870117</td>\n",
       "      <td>2851.479980</td>\n",
       "      <td>2872.870117</td>\n",
       "      <td>2872.870117</td>\n",
       "      <td>1.145623e+10</td>\n",
       "    </tr>\n",
       "  </tbody>\n",
       "</table>\n",
       "</div>"
      ],
      "text/plain": [
       "               Open          High           Low         Close     Adj Close  \\\n",
       "count  17191.000000  17191.000000  17191.000000  17191.000000  17191.000000   \n",
       "mean     546.966024    550.229233    543.522697    547.091391    547.091391   \n",
       "std      643.238592    646.567762    639.645155    643.342927    643.342927   \n",
       "min       16.660000     16.660000     16.660000     16.660000     16.660000   \n",
       "25%       85.419998     86.130001     84.760002     85.424999     85.424999   \n",
       "50%      164.369995    165.050003    163.710007    164.289993    164.289993   \n",
       "75%     1073.684998   1082.705017   1065.224976   1073.669983   1073.669983   \n",
       "max     2867.229980   2872.870117   2851.479980   2872.870117   2872.870117   \n",
       "\n",
       "             Volume  \n",
       "count  1.719100e+04  \n",
       "mean   8.945411e+08  \n",
       "std    1.531001e+09  \n",
       "min    6.800000e+05  \n",
       "25%    8.685000e+06  \n",
       "50%    8.794000e+07  \n",
       "75%    1.110950e+09  \n",
       "max    1.145623e+10  "
      ]
     },
     "execution_count": 2,
     "metadata": {},
     "output_type": "execute_result"
    }
   ],
   "source": [
    "import pandas as pd\n",
    "\n",
    "# Generate a brief statistic summary for corresponding data \n",
    "df = pd.read_csv(\"SP500.csv\")\n",
    "df.describe()\n"
   ]
  },
  {
   "cell_type": "markdown",
   "id": "046a22b3",
   "metadata": {},
   "source": [
    "#### 2. Sort daily gain/loss for January of 2018 and store the result back to a .csv file "
   ]
  },
  {
   "cell_type": "code",
   "execution_count": 3,
   "id": "9ec766bd",
   "metadata": {},
   "outputs": [],
   "source": [
    "df = pd.read_csv(\"SP500.csv\")\n",
    "df_january = df[df['Date'].str.startswith('2018-01')].copy(deep=False)\n",
    "\n",
    "# Calculate daily gain/loss, store it to new column\n",
    "df_january.loc[:, 'Gain/Loss'] = df_january['Close'] - df_january['Open']\n",
    "\n",
    "df_sorted = df_january.sort_values(by='Gain/Loss', ascending=False)\n",
    "\n",
    "df_sorted.to_csv('pandas_2_output.csv', index=False)"
   ]
  },
  {
   "cell_type": "markdown",
   "id": "3070c3ca",
   "metadata": {},
   "source": [
    "#### 3. Find all of the daily gains reach 20% and above and display them "
   ]
  },
  {
   "cell_type": "code",
   "execution_count": 4,
   "id": "be21df09",
   "metadata": {},
   "outputs": [
    {
     "name": "stdout",
     "output_type": "stream",
     "text": [
      "             Date        Open       High        Low      Close  Adj Close  \\\n",
      "14800  2008-10-28  848.919983  940.51001  845.27002  940.51001  940.51001   \n",
      "\n",
      "           Volume  Daily Gain  \n",
      "14800  7096950000   10.789006  \n"
     ]
    }
   ],
   "source": [
    "df = pd.read_csv(\"SP500.csv\")\n",
    "df['Daily Gain'] = (df['Close'] - df['Open']) / df['Open'] * 100\n",
    "\n",
    "# no values come up for anything over 10. Might be my error or there aren't any 20% gains\n",
    "df_filtered = df[df['Daily Gain'] >= 10]\n",
    "\n",
    "print(df_filtered)"
   ]
  },
  {
   "cell_type": "markdown",
   "id": "0361ed99",
   "metadata": {},
   "source": [
    "#### 4. The highest daily gain and its date, the highest daily loss and its date"
   ]
  },
  {
   "cell_type": "code",
   "execution_count": 5,
   "id": "6ff6be50",
   "metadata": {},
   "outputs": [
    {
     "name": "stdout",
     "output_type": "stream",
     "text": [
      "Highest gain 91.59002699999996 on 2008-10-28\n",
      "Highest loss -104.01000999999997 on 2018-02-08\n"
     ]
    }
   ],
   "source": [
    "df= pd.read_csv(\"SP500.csv\")\n",
    "df.loc[:, 'Gain/Loss'] = df['Close'] - df['Open']\n",
    "df_sorted = df.sort_values(by='Gain/Loss', ascending=False)\n",
    "print(f'Highest gain {df_sorted.iloc[0][-1]} on {df_sorted.iloc[0][0]}')\n",
    "print(f'Highest loss {df_sorted.iloc[-1][-1]} on {df_sorted.iloc[-1][0]}')"
   ]
  },
  {
   "cell_type": "markdown",
   "id": "eb62ffb7",
   "metadata": {},
   "source": [
    "#### 5. The most daily transaction volume and its date"
   ]
  },
  {
   "cell_type": "code",
   "execution_count": 6,
   "id": "bba78431",
   "metadata": {},
   "outputs": [
    {
     "name": "stdout",
     "output_type": "stream",
     "text": [
      "Highest volume 11456230000 on 2008-10-10\n"
     ]
    },
    {
     "data": {
      "text/html": [
       "<div>\n",
       "<style scoped>\n",
       "    .dataframe tbody tr th:only-of-type {\n",
       "        vertical-align: middle;\n",
       "    }\n",
       "\n",
       "    .dataframe tbody tr th {\n",
       "        vertical-align: top;\n",
       "    }\n",
       "\n",
       "    .dataframe thead th {\n",
       "        text-align: right;\n",
       "    }\n",
       "</style>\n",
       "<table border=\"1\" class=\"dataframe\">\n",
       "  <thead>\n",
       "    <tr style=\"text-align: right;\">\n",
       "      <th></th>\n",
       "      <th>Date</th>\n",
       "      <th>Open</th>\n",
       "      <th>High</th>\n",
       "      <th>Low</th>\n",
       "      <th>Close</th>\n",
       "      <th>Adj Close</th>\n",
       "      <th>Volume</th>\n",
       "    </tr>\n",
       "  </thead>\n",
       "  <tbody>\n",
       "    <tr>\n",
       "      <th>0</th>\n",
       "      <td>1950-01-03</td>\n",
       "      <td>16.660000</td>\n",
       "      <td>16.660000</td>\n",
       "      <td>16.660000</td>\n",
       "      <td>16.660000</td>\n",
       "      <td>16.660000</td>\n",
       "      <td>1260000</td>\n",
       "    </tr>\n",
       "    <tr>\n",
       "      <th>1</th>\n",
       "      <td>1950-01-04</td>\n",
       "      <td>16.850000</td>\n",
       "      <td>16.850000</td>\n",
       "      <td>16.850000</td>\n",
       "      <td>16.850000</td>\n",
       "      <td>16.850000</td>\n",
       "      <td>1890000</td>\n",
       "    </tr>\n",
       "    <tr>\n",
       "      <th>2</th>\n",
       "      <td>1950-01-05</td>\n",
       "      <td>16.930000</td>\n",
       "      <td>16.930000</td>\n",
       "      <td>16.930000</td>\n",
       "      <td>16.930000</td>\n",
       "      <td>16.930000</td>\n",
       "      <td>2550000</td>\n",
       "    </tr>\n",
       "    <tr>\n",
       "      <th>3</th>\n",
       "      <td>1950-01-06</td>\n",
       "      <td>16.980000</td>\n",
       "      <td>16.980000</td>\n",
       "      <td>16.980000</td>\n",
       "      <td>16.980000</td>\n",
       "      <td>16.980000</td>\n",
       "      <td>2010000</td>\n",
       "    </tr>\n",
       "    <tr>\n",
       "      <th>4</th>\n",
       "      <td>1950-01-09</td>\n",
       "      <td>17.080000</td>\n",
       "      <td>17.080000</td>\n",
       "      <td>17.080000</td>\n",
       "      <td>17.080000</td>\n",
       "      <td>17.080000</td>\n",
       "      <td>2520000</td>\n",
       "    </tr>\n",
       "    <tr>\n",
       "      <th>...</th>\n",
       "      <td>...</td>\n",
       "      <td>...</td>\n",
       "      <td>...</td>\n",
       "      <td>...</td>\n",
       "      <td>...</td>\n",
       "      <td>...</td>\n",
       "      <td>...</td>\n",
       "    </tr>\n",
       "    <tr>\n",
       "      <th>17186</th>\n",
       "      <td>2018-04-23</td>\n",
       "      <td>2675.399902</td>\n",
       "      <td>2682.860107</td>\n",
       "      <td>2657.989990</td>\n",
       "      <td>2670.290039</td>\n",
       "      <td>2670.290039</td>\n",
       "      <td>3017480000</td>\n",
       "    </tr>\n",
       "    <tr>\n",
       "      <th>17187</th>\n",
       "      <td>2018-04-24</td>\n",
       "      <td>2680.800049</td>\n",
       "      <td>2683.550049</td>\n",
       "      <td>2617.320068</td>\n",
       "      <td>2634.560059</td>\n",
       "      <td>2634.560059</td>\n",
       "      <td>3706740000</td>\n",
       "    </tr>\n",
       "    <tr>\n",
       "      <th>17188</th>\n",
       "      <td>2018-04-25</td>\n",
       "      <td>2634.919922</td>\n",
       "      <td>2645.300049</td>\n",
       "      <td>2612.669922</td>\n",
       "      <td>2639.399902</td>\n",
       "      <td>2639.399902</td>\n",
       "      <td>3499440000</td>\n",
       "    </tr>\n",
       "    <tr>\n",
       "      <th>17189</th>\n",
       "      <td>2018-04-26</td>\n",
       "      <td>2651.649902</td>\n",
       "      <td>2676.479980</td>\n",
       "      <td>2647.159912</td>\n",
       "      <td>2666.939941</td>\n",
       "      <td>2666.939941</td>\n",
       "      <td>3665720000</td>\n",
       "    </tr>\n",
       "    <tr>\n",
       "      <th>17190</th>\n",
       "      <td>2018-04-27</td>\n",
       "      <td>2675.469971</td>\n",
       "      <td>2677.350098</td>\n",
       "      <td>2659.010010</td>\n",
       "      <td>2669.909912</td>\n",
       "      <td>2669.909912</td>\n",
       "      <td>3219030000</td>\n",
       "    </tr>\n",
       "  </tbody>\n",
       "</table>\n",
       "<p>17191 rows × 7 columns</p>\n",
       "</div>"
      ],
      "text/plain": [
       "             Date         Open         High          Low        Close  \\\n",
       "0      1950-01-03    16.660000    16.660000    16.660000    16.660000   \n",
       "1      1950-01-04    16.850000    16.850000    16.850000    16.850000   \n",
       "2      1950-01-05    16.930000    16.930000    16.930000    16.930000   \n",
       "3      1950-01-06    16.980000    16.980000    16.980000    16.980000   \n",
       "4      1950-01-09    17.080000    17.080000    17.080000    17.080000   \n",
       "...           ...          ...          ...          ...          ...   \n",
       "17186  2018-04-23  2675.399902  2682.860107  2657.989990  2670.290039   \n",
       "17187  2018-04-24  2680.800049  2683.550049  2617.320068  2634.560059   \n",
       "17188  2018-04-25  2634.919922  2645.300049  2612.669922  2639.399902   \n",
       "17189  2018-04-26  2651.649902  2676.479980  2647.159912  2666.939941   \n",
       "17190  2018-04-27  2675.469971  2677.350098  2659.010010  2669.909912   \n",
       "\n",
       "         Adj Close      Volume  \n",
       "0        16.660000     1260000  \n",
       "1        16.850000     1890000  \n",
       "2        16.930000     2550000  \n",
       "3        16.980000     2010000  \n",
       "4        17.080000     2520000  \n",
       "...            ...         ...  \n",
       "17186  2670.290039  3017480000  \n",
       "17187  2634.560059  3706740000  \n",
       "17188  2639.399902  3499440000  \n",
       "17189  2666.939941  3665720000  \n",
       "17190  2669.909912  3219030000  \n",
       "\n",
       "[17191 rows x 7 columns]"
      ]
     },
     "execution_count": 6,
     "metadata": {},
     "output_type": "execute_result"
    }
   ],
   "source": [
    "df = pd.read_csv(\"sp500.csv\")\n",
    "df_sorted = df.sort_values(by='Volume', ascending=False)\n",
    "print(f'Highest volume {df_sorted.iloc[0][-1]} on {df_sorted.iloc[0][0]}')\n",
    "df"
   ]
  },
  {
   "cell_type": "markdown",
   "id": "10c43e29",
   "metadata": {},
   "source": [
    "#### 6. A monthly report for year 2017-2018, which has monthly average open price, close price, transaction volume and gain/loss, and a query to find all of the months which have certain range of open prices"
   ]
  },
  {
   "cell_type": "code",
   "execution_count": 7,
   "id": "5fd666db",
   "metadata": {},
   "outputs": [
    {
     "name": "stderr",
     "output_type": "stream",
     "text": [
      "/var/folders/vz/5pbc4qrn27zck873trn03npc0000gn/T/ipykernel_8477/2410644284.py:5: SettingWithCopyWarning: \n",
      "A value is trying to be set on a copy of a slice from a DataFrame.\n",
      "Try using .loc[row_indexer,col_indexer] = value instead\n",
      "\n",
      "See the caveats in the documentation: https://pandas.pydata.org/pandas-docs/stable/user_guide/indexing.html#returning-a-view-versus-a-copy\n",
      "  df_dates.loc[:, 'Gain/Loss'] = df_dates['Close'] - df_dates['Open']\n"
     ]
    }
   ],
   "source": [
    "df = pd.read_csv(\"sp500.csv\")\n",
    "\n",
    "\n",
    "df_dates = df[(df['Date'].str.startswith('2018')) | (df['Date'].str.startswith('2017'))]\n",
    "df_dates.loc[:, 'Gain/Loss'] = df_dates['Close'] - df_dates['Open']\n",
    "\n",
    "#df_dates.set_index('Date')\n",
    "#df_dates.index=pd.DatetimeIndex(df_dates.index)\n",
    "#df_dates = df_dates.resample('M').mean()\n",
    "#df_dates.reset_index(inplace=True)\n",
    "#\n",
    "\n",
    "#print('Average open price:', df_dates['Open'].mean())\n",
    "#print('Average close price', df_dates['Close'].mean())\n",
    "#print('Average Transaction volume', df_dates['Volume'].mean())\n",
    "#print('Average Gain/Loss', df_dates['Gain/Loss'].mean())\n",
    "#Query can be edited to include different dates\n",
    "#print(df_dates[(df_dates['Open'] >= 2300) & (df_dates['Open'] <= 2400)])\n"
   ]
  },
  {
   "cell_type": "markdown",
   "id": "ed365f0b",
   "metadata": {},
   "source": [
    "#### 7. A yearly report which has annual average open price, close price, transaction volume and gain/loss from 1950 to 2018, and the most profitable year"
   ]
  },
  {
   "cell_type": "code",
   "execution_count": 9,
   "id": "f7609061",
   "metadata": {},
   "outputs": [
    {
     "name": "stdout",
     "output_type": "stream",
     "text": [
      "Most Profitable Year:\n",
      "              Open        Close        Volume Gain/Loss\n",
      "             mean         mean          mean      mean\n",
      "Date                                                  \n",
      "2013  1642.298649  1643.798968  3.358967e+09  1.500319\n",
      "             Open        Close        Volume Gain/Loss\n",
      "             mean         mean          mean      mean\n",
      "Date                                                  \n",
      "1950    18.397269    18.397269  2.009237e+06  0.000000\n",
      "1951    22.321888    22.321888  1.717590e+06  0.000000\n",
      "1952    24.496160    24.496160  1.308160e+06  0.000000\n",
      "1953    24.722590    24.722590  1.413147e+06  0.000000\n",
      "1954    29.724087    29.724087  2.269762e+06  0.000000\n",
      "...           ...          ...           ...       ...\n",
      "2014  1930.754485  1931.376110  3.354783e+09  0.621625\n",
      "2015  2061.268016  2061.067741  3.655629e+09 -0.200275\n",
      "2016  2094.091550  2094.651264  3.905232e+09  0.559714\n",
      "2017  2448.275888  2449.076379  3.412303e+09  0.800491\n",
      "2018  2715.895794  2713.829129  3.687696e+09 -2.066665\n",
      "\n",
      "[69 rows x 4 columns]\n"
     ]
    }
   ],
   "source": [
    "df['Gain/Loss'] = df['Close'] - df['Open']\n",
    "\n",
    "year = df['Date'].str[:4]\n",
    "annual_data = df.groupby(year).agg({'Open': ['mean'],\n",
    "                                    'Close': ['mean'],\n",
    "                                    'Volume': ['mean'],\n",
    "                                    'Gain/Loss': ['mean']})\n",
    "\n",
    "\n",
    "most_profitable_year = annual_data.loc[annual_data['Gain/Loss'].idxmax()]\n",
    "\n",
    "\n",
    "print('Most Profitable Year:\\n', most_profitable_year)\n",
    "\n",
    "print(annual_data)"
   ]
  },
  {
   "cell_type": "markdown",
   "id": "2ba40ebb",
   "metadata": {},
   "source": [
    "#### 8. A every other five year report which has every five year average open price, close price, transaction volume and gain/loss from 1950 to 2018, and the most profitable five year"
   ]
  },
  {
   "cell_type": "code",
   "execution_count": 10,
   "id": "55bdd52e",
   "metadata": {},
   "outputs": [
    {
     "name": "stdout",
     "output_type": "stream",
     "text": [
      "Most Profitable Year:\n",
      "                     Open       Close        Volume Gain/Loss\n",
      "                    mean        mean          mean      mean\n",
      "Year Group                                                  \n",
      "[1995, 2000)  898.511394  899.311165  5.525298e+08   0.79977\n",
      "                     Open        Close        Volume Gain/Loss\n",
      "                     mean         mean          mean      mean\n",
      "Year Group                                                    \n",
      "[1950, 1955)    23.948002    23.948002  1.743965e+06  0.000000\n",
      "[1955, 1960)    47.045230    47.045230  2.642627e+06  0.000000\n",
      "[1960, 1965)    67.134913    67.143545  4.079984e+06  0.008633\n",
      "[1965, 1970)    92.144817    92.151681  9.552518e+06  0.006864\n",
      "[1970, 1975)    96.146398    96.124893  1.469059e+07 -0.021504\n",
      "[1975, 1980)    97.070111    97.102209  2.430481e+07  0.032098\n",
      "[1980, 1985)   137.429652   137.478087  6.665993e+07  0.048435\n",
      "[1985, 1990)   259.686461   259.837395  1.532317e+08  0.150934\n",
      "[1990, 1995)   407.601012   407.684031  2.187798e+08  0.083020\n",
      "[1995, 2000)   898.511394   899.311165  5.525298e+08  0.799770\n",
      "[2000, 2005)  1142.276792  1142.076967  1.300866e+09 -0.199825\n",
      "[2005, 2010)  1232.307609  1232.326600  3.632072e+09  0.018992\n",
      "[2010, 2015)  1471.892304  1472.574681  3.805046e+09  0.682377\n",
      "[2015, 2020)  2250.783993  2250.932440  3.660919e+09  0.148448\n"
     ]
    }
   ],
   "source": [
    "year = df['Date'].str[:4].astype(int)\n",
    "df['Year Group'] = pd.cut(year, bins=range(1950, 2021, 5), right=False)\n",
    "annual_data = df.groupby('Year Group').agg({'Open': ['mean'],\n",
    "                                    'Close': ['mean'],\n",
    "                                    'Volume': ['mean'],\n",
    "                                    'Gain/Loss': ['mean']})\n",
    "\n",
    "\n",
    "most_profitable_five_years = annual_data.loc[annual_data['Gain/Loss'].idxmax()]\n",
    "\n",
    "\n",
    "print('Most Profitable Year:\\n', most_profitable_five_years)\n",
    "\n",
    "print(annual_data)"
   ]
  },
  {
   "cell_type": "markdown",
   "id": "f919fd42",
   "metadata": {},
   "source": [
    "#### note: Using what we have learned in Unit5 of Pandas to analyze __Sacramentorealestatetransactions.csv__ file with Series and DataFrame operations. Please find answers to the following questions: \n"
   ]
  },
  {
   "cell_type": "markdown",
   "id": "42ecc381",
   "metadata": {},
   "source": [
    "#### 9. Regroup the data first by city name, then by type "
   ]
  },
  {
   "cell_type": "code",
   "execution_count": null,
   "id": "086ad622",
   "metadata": {},
   "outputs": [],
   "source": []
  },
  {
   "cell_type": "markdown",
   "id": "511fb965",
   "metadata": {},
   "source": [
    "#### 10. For each city, each type, find the highest, median and lowest transactions "
   ]
  },
  {
   "cell_type": "code",
   "execution_count": null,
   "id": "b0f09dbf",
   "metadata": {},
   "outputs": [],
   "source": []
  },
  {
   "cell_type": "markdown",
   "id": "23f23054",
   "metadata": {},
   "source": [
    "#### 11. For each zipcode and each type, find average transactions "
   ]
  },
  {
   "cell_type": "code",
   "execution_count": null,
   "id": "230275df",
   "metadata": {},
   "outputs": [],
   "source": []
  }
 ],
 "metadata": {
  "kernelspec": {
   "display_name": "Python 3 (ipykernel)",
   "language": "python",
   "name": "python3"
  },
  "language_info": {
   "codemirror_mode": {
    "name": "ipython",
    "version": 3
   },
   "file_extension": ".py",
   "mimetype": "text/x-python",
   "name": "python",
   "nbconvert_exporter": "python",
   "pygments_lexer": "ipython3",
   "version": "3.8.5"
  },
  "vscode": {
   "interpreter": {
    "hash": "509a0412fec2797376ec7c65fd1a8ebeaab4056fcd88ea6df8fa9b9accf985d3"
   }
  }
 },
 "nbformat": 4,
 "nbformat_minor": 5
}
