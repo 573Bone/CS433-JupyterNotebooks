{
 "cells": [
  {
   "cell_type": "markdown",
   "metadata": {},
   "source": [
    "Group: Noah Little, Zach Healy, Jack Stout, Jacob Thieret, Justin Kehoe, Collyn Rouggly"
   ]
  },
  {
   "cell_type": "markdown",
   "metadata": {},
   "source": [
    "#### Using our class example unit2_07 Employee class, create five different employees who earn different salary and are different age. Then use  List comprehension  to find the top three salary employees and display all of their information"
   ]
  },
  {
   "cell_type": "code",
   "execution_count": 5,
   "metadata": {},
   "outputs": [
    {
     "name": "stdout",
     "output_type": "stream",
     "text": [
      "Name : Susan, Salary: 120000, Age: 50\n",
      "Name : Dwayne, Salary: 80000, Age: 40\n",
      "Name : Jebodiah, Salary: 51000, Age: 30\n"
     ]
    }
   ],
   "source": [
    "class Employee: #same as Employee(object)\n",
    "   'Common base class for all employees'\n",
    "   empCount = 0 #class attribute\n",
    "\n",
    "   #name, salary and _age are instance attributes\n",
    "   def __init__(self, name, salary, age): #initializer must have at least argument beside self\n",
    "      self.name = name\n",
    "      self.salary = salary\n",
    "      self.__age = age\n",
    "      Employee.empCount += 1\n",
    "   \n",
    "   def displayCount(self):\n",
    "       print(\"Total Employee: {0}\".format(Employee.empCount))\n",
    "\n",
    "   def displayEmployee(self):\n",
    "       print(\"Name: {0}, Salary: {1}, Age: {2}\".format(self.name,self.salary, self.__age))\n",
    "       \n",
    "# create five different employees who earn different salary and are different age. \n",
    "e1 = Employee(\"Jebodiah\", 51000, 30)\n",
    "e2 = Employee(\"Greg\", 23000, 35)\n",
    "e3 = Employee(\"Dwayne\", 80000, 40)\n",
    "e4 = Employee(\"Rupert\", 43000, 45)\n",
    "e5 = Employee(\"Susan\", 120000, 50)\n",
    "\n",
    "# Then use  List comprehension  to find the top three salary employees and display all of their information\n",
    "Employee_List = [e1, e2, e3, e4, e5]\n",
    "\n",
    "top_three_salary = [e for e in sorted(Employee_List, key=lambda x: x.salary, reverse=True)][:3]\n",
    "\n",
    "for e in top_three_salary:\n",
    "    e.displayEmployee()"
   ]
  },
  {
   "cell_type": "markdown",
   "metadata": {},
   "source": [
    "#### Create a Company class that holds instances of employees. Then assign five employee instances to an instance of the Company class.  Next, add a work() method to both the Company and Employee classes so that when you call the method on the Company class, each Employee instance assigned to the Employee class will work(). Test the Company’s work(). "
   ]
  },
  {
   "cell_type": "code",
   "execution_count": 5,
   "metadata": {},
   "outputs": [
    {
     "name": "stdout",
     "output_type": "stream",
     "text": [
      "Jebodiah started working\n",
      "Greg started working\n",
      "Dwayne started working\n",
      "Rupert started working\n",
      "Susan started working\n"
     ]
    }
   ],
   "source": [
    "class Employee: #same as Employee(object)\n",
    "   'Common base class for all employees'\n",
    "   empCount = 0 #class attribute\n",
    "\n",
    "   #name, salary and _age are instance attributes\n",
    "   def __init__(self, name, salary, age): #initializer must have at least argument beside self\n",
    "      self.name = name\n",
    "      self.salary = salary\n",
    "      self.__age = age\n",
    "      Employee.empCount += 1\n",
    "   \n",
    "   def displayCount(self):\n",
    "       print(\"Total Employee: {0}\".format(Employee.empCount))\n",
    "\n",
    "   def displayEmployee(self):\n",
    "       print(\"Name: {0}, Salary: {1}, Age: {2}\".format(self.name,self.salary, self.__age))\n",
    "       \n",
    "   def work(self):\n",
    "      print(\"{0} started working\".format(self.name))\n",
    "\n",
    "# Create a Company class that holds instances of employees. Then assign five employee instances to an instance of the Company class.  \n",
    "class Company:\n",
    "   'Holds a list of employees'\n",
    "   def __init__(self):\n",
    "      self.employee_list = []\n",
    "   \n",
    "   def add_employee(self, employee):\n",
    "      self.employee_list.append(employee)\n",
    "   \n",
    "   def display_employees(self):\n",
    "      for employee in self.employee_list:\n",
    "         employee.displayEmployee() \n",
    "         \n",
    "   def work(self):\n",
    "      for e in self.employee_list:\n",
    "         e.work()\n",
    "\n",
    "e1 = Employee(\"Jebodiah\", 51000, 30)\n",
    "e2 = Employee(\"Greg\", 23000, 35)\n",
    "e3 = Employee(\"Dwayne\", 80000, 40)\n",
    "e4 = Employee(\"Rupert\", 43000, 45)\n",
    "e5 = Employee(\"Susan\", 120000, 50)\n",
    "Employee_List = [e1, e2, e3, e4, e5]\n",
    "\n",
    "c1 = Company()\n",
    "\n",
    "for e in Employee_List:\n",
    "   c1.add_employee(e)\n",
    "# Test the Company’s work()\n",
    "\n",
    "c1.work()"
   ]
  },
  {
   "cell_type": "markdown",
   "metadata": {},
   "source": [
    "#### Create ten different employees from a file: read employee data from a file(.txt or .json), then  use generator  to create a list of ten employees, sort the employee list by their name,  use generator  to raise every employee’s salary by 5%, then  use generator  to create a dictionary of the employees where the keys of the dictionary items are from range(10) and print them out.  Furthermore,  use itertools’s groupby()  method to group employees by age group(younger than 20, 21-30, 31-50, 51-65, older than 65) "
   ]
  },
  {
   "cell_type": "code",
   "execution_count": 3,
   "metadata": {},
   "outputs": [
    {
     "name": "stdout",
     "output_type": "stream",
     "text": [
      "Name: Phil, Salary: 12600, Age: 16\n",
      "Name: Zack, Salary: 68250, Age: 25\n",
      "Name: Jebodiah, Salary: 53550, Age: 30\n",
      "Name: Jill, Salary: 46200, Age: 34\n",
      "Name: Greg, Salary: 24150, Age: 35\n",
      "Name: Dwayne, Salary: 84000, Age: 40\n",
      "Name: Rupert, Salary: 45150, Age: 45\n",
      "Name: Susan, Salary: 126000, Age: 50\n",
      "Name: Clark, Salary: 75600, Age: 54\n",
      "Name: Bob, Salary: 52500, Age: 65\n",
      "younger than 20:\n",
      "  Phil\n",
      "21-30:\n",
      "  Zack\n",
      "  Jebodiah\n",
      "31-50:\n",
      "  Jill\n",
      "  Greg\n",
      "  Dwayne\n",
      "  Rupert\n",
      "  Susan\n",
      "51-65:\n",
      "  Clark\n",
      "  Bob\n",
      "Phil started working\n",
      "Zack started working\n",
      "Jebodiah started working\n",
      "Jill started working\n",
      "Greg started working\n",
      "Dwayne started working\n",
      "Rupert started working\n",
      "Susan started working\n",
      "Clark started working\n",
      "Bob started working\n"
     ]
    }
   ],
   "source": [
    "import itertools\n",
    "\n",
    "\n",
    "class Employee:  # same as Employee(object)\n",
    "    'Common base class for all employees'\n",
    "    empCount = 0  # class attribute\n",
    "\n",
    "    # name, salary and _age are instance attributes\n",
    "    def __init__(self, name, salary, age):  # initializer must have at least argument beside self\n",
    "        self.name = name\n",
    "        self.salary = salary\n",
    "        self.age = age\n",
    "        Employee.empCount += 1\n",
    "\n",
    "    def displayCount(self):\n",
    "        print(\"Total Employee: {0}\".format(Employee.empCount))\n",
    "\n",
    "    def displayEmployee(self):\n",
    "        print(\"Name: {0}, Salary: {1}, Age: {2}\".format(self.name, self.salary, self.age))\n",
    "\n",
    "    def work(self):\n",
    "        print(\"{0} started working\".format(self.name))\n",
    "\n",
    "\n",
    "# Create a Company class that holds instances of employees. Then assign five employee instances to an instance of the\n",
    "# Company class.\n",
    "class Company:\n",
    "    'Holds a list of employees'\n",
    "\n",
    "    def __init__(self):\n",
    "        self.employee_list = []\n",
    "\n",
    "    def add_employee(self, employee):\n",
    "        self.employee_list.append(employee)\n",
    "\n",
    "    def display_employees(self):\n",
    "        for employee in self.employee_list:\n",
    "            employee.displayEmployee()\n",
    "\n",
    "    def work(self):\n",
    "        for e in self.employee_list:\n",
    "            e.work()\n",
    "\n",
    "    def generate_employees(self):\n",
    "        with open(\"employees.txt\") as file:\n",
    "            for line in file:\n",
    "                name, salary, age = line.split(\",\")\n",
    "                yield Employee(name, int(salary), int(age))\n",
    "\n",
    "    def raise_salary(self):\n",
    "        self.employee_list = list((Employee(x.name, int(x.salary * 1.05), x.age) for x in self.employee_list))\n",
    "\n",
    "    def age_group(self, age):\n",
    "        if age < 20:\n",
    "            return \"younger than 20\"\n",
    "        elif 20 <= age < 31:\n",
    "            return \"21-30\"\n",
    "        elif 31 <= age < 51:\n",
    "            return \"31-50\"\n",
    "        elif 51 <= age < 66:\n",
    "            return \"51-65\"\n",
    "        else:\n",
    "            return \"older than 65\"\n",
    "\n",
    "\n",
    "c1 = Company()\n",
    "\n",
    "c1.employee_list = sorted(c1.generate_employees(), key=lambda x: x.age)\n",
    "\n",
    "c1.raise_salary()\n",
    "\n",
    "employee_dict = dict((x, employee) for x, employee in enumerate(c1.employee_list))\n",
    "\n",
    "for i in range(10):\n",
    "    employee_dict.get(i).displayEmployee()\n",
    "\n",
    "for age_group, employees_in_group in itertools.groupby(c1.employee_list, key=lambda x: c1.age_group(x.age)):\n",
    "    print(age_group + \":\")\n",
    "\n",
    "    for employee in employees_in_group:\n",
    "        print(\"  \" + employee.name)\n",
    "\n",
    "c1.work()"
   ]
  },
  {
   "cell_type": "markdown",
   "metadata": {},
   "source": [
    "#### Create a EmployeeD class which is a  subclass of UserDict  and overrides \\_\\_getitem\\_\\_ and \\_\\_setitem\\_\\_ methods.  Then read from your provided file to create a sequence of EmployeeD instances  using generator function  and print the total salaries. "
   ]
  },
  {
   "cell_type": "code",
   "execution_count": null,
   "metadata": {},
   "outputs": [],
   "source": [
    "# Create a EmployeeD class which is a subclass of UserDict and overrides __getitem__ and __setitem__ methods.\n",
    "# Then read from your provided file to create a sequence of EmployeeD instances using generator function and print the total salaries."
   ]
  },
  {
   "cell_type": "markdown",
   "metadata": {},
   "source": [
    "####  Using what we have learned in Unit2  to analyze  provided real estate transaction .csv file , you can use SP500 example as reference.  Please find the highest and lowest transactions for each category of real estate: condo, residential and multi-family.  Please note you are  not allowed to use Pandas  for this problem. "
   ]
  },
  {
   "cell_type": "code",
   "execution_count": null,
   "metadata": {},
   "outputs": [],
   "source": [
    "# Using what we have learned in Unit2  to analyze  provided real estate transaction .csv file , you can use SP500 example as reference.  \n",
    "# Please find the highest and lowest transactions for each category of real estate: condo, residential and multi-family.  \n",
    "# Please note you are  not allowed to use Pandas  for this problem."
   ]
  }
 ],
 "metadata": {
  "kernelspec": {
   "display_name": "Python 3 (ipykernel)",
   "language": "python",
   "name": "python3"
  },
  "language_info": {
   "codemirror_mode": {
    "name": "ipython",
    "version": 3
   },
   "file_extension": ".py",
   "mimetype": "text/x-python",
   "name": "python",
   "nbconvert_exporter": "python",
   "pygments_lexer": "ipython3",
   "version": "3.10.9"
  },
  "vscode": {
   "interpreter": {
    "hash": "509a0412fec2797376ec7c65fd1a8ebeaab4056fcd88ea6df8fa9b9accf985d3"
   }
  }
 },
 "nbformat": 4,
 "nbformat_minor": 2
}
