{
 "cells": [
  {
   "attachments": {},
   "cell_type": "markdown",
   "metadata": {},
   "source": [
    "Group: Noah Little, Zach Healy, Jack Stout, Jacob Thieret, Justin Kehoe, Collyn Rouggly"
   ]
  },
  {
   "attachments": {},
   "cell_type": "markdown",
   "metadata": {},
   "source": [
    "#### Using our class example unit2_07 Employee class, create five different employees who earn different salary and are different age. Then use ___List comprehension___ to find the top three salary employees and display all of their information"
   ]
  },
  {
   "cell_type": "code",
   "execution_count": null,
   "metadata": {},
   "outputs": [],
   "source": [
    "'''\n",
    "unit2_07 Employee Class\n",
    "'''\n",
    "class Employee: #same as Employee(object)\n",
    "   'Common base class for all employees'\n",
    "   empCount = 0 #class attribute\n",
    "\n",
    "   #name, salary and _age are instance attributes\n",
    "   def __init__(self, name, salary, age): #initializer must have at least argument beside self\n",
    "      self.name = name\n",
    "      self.salary = salary\n",
    "      self.__age = age\n",
    "      Employee.empCount += 1\n",
    "   \n",
    "   def displayCount(self):\n",
    "       print(\"Total Employee: {0}\".format(Employee.empCount))\n",
    "\n",
    "   def displayEmployee(self):\n",
    "       print(\"Name : {0}, Salary: {1}, Age: {2}\".format(self.name,self.salary, self.__age))\n",
    "       \n",
    "# create five different employees who earn different salary and are different age. Then use ___List comprehension___ to find the top three salary employees and display all of their information\n",
    "    "
   ]
  },
  {
   "attachments": {},
   "cell_type": "markdown",
   "metadata": {},
   "source": [
    "#### Create a Company class that holds instances of employees. Then assign five employee instances to an instance of the Company class.  Next, add a work() method to both the Company and Employee classes so that when you call the method on the Company class, each Employee instance assigned to the Employee class will work(). Test the Company’s work(). "
   ]
  },
  {
   "cell_type": "code",
   "execution_count": null,
   "metadata": {},
   "outputs": [],
   "source": [
    "'''\n",
    "code\n",
    "'''"
   ]
  },
  {
   "attachments": {},
   "cell_type": "markdown",
   "metadata": {},
   "source": [
    "#### Create ten different employees from a file: read employee data from a file(.txt or .json), then ___use generator___ to create a list of ten employees, sort the employee list by their name, ___use generator___ to raise every employee’s salary by 5%, then ___use generator___ to create a dictionary of the employees where the keys of the dictionary items are from range(10) and print them out.  Furthermore, ___use itertools’s groupby()___ method to group employees by age group(younger than 20, 21-30, 31-50, 51-65, older than 65) "
   ]
  },
  {
   "cell_type": "code",
   "execution_count": null,
   "metadata": {},
   "outputs": [],
   "source": [
    "'''\n",
    "code\n",
    "'''"
   ]
  },
  {
   "attachments": {},
   "cell_type": "markdown",
   "metadata": {},
   "source": [
    "#### Create a EmployeeD class which is a ___subclass of UserDict___ and overrides \\_\\_getitem\\_\\_ and \\_\\_setitem\\_\\_ methods.  Then read from your provided file to create a sequence of EmployeeD instances ___using generator function___ and print the total salaries. "
   ]
  },
  {
   "cell_type": "code",
   "execution_count": null,
   "metadata": {},
   "outputs": [],
   "source": [
    "'''\n",
    "code\n",
    "'''"
   ]
  },
  {
   "attachments": {},
   "cell_type": "markdown",
   "metadata": {},
   "source": [
    "#### ___Using what we have learned in Unit2___ to analyze ___provided real estate transaction .csv file___, you can use SP500 example as reference.  Please find the highest and lowest transactions for each category of real estate: condo, residential and multi-family.  Please note you are ___not allowed to use Pandas___ for this problem. "
   ]
  },
  {
   "cell_type": "code",
   "execution_count": null,
   "metadata": {},
   "outputs": [],
   "source": [
    "'''\n",
    "code\n",
    "'''"
   ]
  }
 ],
 "metadata": {
  "kernelspec": {
   "display_name": "Python 3",
   "language": "python",
   "name": "python3"
  },
  "language_info": {
   "name": "python",
   "version": "3.10.9 (tags/v3.10.9:1dd9be6, Dec  6 2022, 20:01:21) [MSC v.1934 64 bit (AMD64)]"
  },
  "orig_nbformat": 4,
  "vscode": {
   "interpreter": {
    "hash": "509a0412fec2797376ec7c65fd1a8ebeaab4056fcd88ea6df8fa9b9accf985d3"
   }
  }
 },
 "nbformat": 4,
 "nbformat_minor": 2
}
