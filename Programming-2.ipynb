{
 "cells": [
  {
   "attachments": {},
   "cell_type": "markdown",
   "metadata": {},
   "source": [
    "Group: Noah Little, Zach Healy, Jack Stout, Jacob Thieret, Justin Kehoe, Collyn Rouggly"
   ]
  },
  {
   "attachments": {},
   "cell_type": "markdown",
   "metadata": {},
   "source": [
    "#### Using our class example unit2_07 Employee class, create five different employees who earn different salary and are different age. Then use  List comprehension  to find the top three salary employees and display all of their information"
   ]
  },
  {
   "cell_type": "code",
   "execution_count": 5,
   "metadata": {},
   "outputs": [
    {
     "name": "stdout",
     "output_type": "stream",
     "text": [
      "Name : Susan, Salary: 120000, Age: 50\n",
      "Name : Dwayne, Salary: 80000, Age: 40\n",
      "Name : Jebodiah, Salary: 51000, Age: 30\n"
     ]
    }
   ],
   "source": [
    "class Employee: #same as Employee(object)\n",
    "   'Common base class for all employees'\n",
    "   empCount = 0 #class attribute\n",
    "\n",
    "   #name, salary and _age are instance attributes\n",
    "   def __init__(self, name, salary, age): #initializer must have at least argument beside self\n",
    "      self.name = name\n",
    "      self.salary = salary\n",
    "      self.__age = age\n",
    "      Employee.empCount += 1\n",
    "   \n",
    "   def displayCount(self):\n",
    "       print(\"Total Employee: {0}\".format(Employee.empCount))\n",
    "\n",
    "   def displayEmployee(self):\n",
    "       print(\"Name: {0}, Salary: {1}, Age: {2}\".format(self.name,self.salary, self.__age))\n",
    "       \n",
    "# create five different employees who earn different salary and are different age. \n",
    "e1 = Employee(\"Jebodiah\", 51000, 30)\n",
    "e2 = Employee(\"Greg\", 23000, 35)\n",
    "e3 = Employee(\"Dwayne\", 80000, 40)\n",
    "e4 = Employee(\"Rupert\", 43000, 45)\n",
    "e5 = Employee(\"Susan\", 120000, 50)\n",
    "\n",
    "# Then use  List comprehension  to find the top three salary employees and display all of their information\n",
    "Employee_List = [e1, e2, e3, e4, e5]\n",
    "\n",
    "top_three_salary = [e for e in sorted(Employee_List, key=lambda x: x.salary, reverse=True)][:3]\n",
    "\n",
    "for e in top_three_salary:\n",
    "    e.displayEmployee()"
   ]
  },
  {
   "attachments": {},
   "cell_type": "markdown",
   "metadata": {},
   "source": [
    "#### Create a Company class that holds instances of employees. Then assign five employee instances to an instance of the Company class.  Next, add a work() method to both the Company and Employee classes so that when you call the method on the Company class, each Employee instance assigned to the Employee class will work(). Test the Company’s work(). "
   ]
  },
  {
   "cell_type": "code",
   "execution_count": 5,
   "metadata": {},
   "outputs": [
    {
     "name": "stdout",
     "output_type": "stream",
     "text": [
      "Jebodiah started working\n",
      "Greg started working\n",
      "Dwayne started working\n",
      "Rupert started working\n",
      "Susan started working\n"
     ]
    }
   ],
   "source": [
    "class Employee: #same as Employee(object)\n",
    "   'Common base class for all employees'\n",
    "   empCount = 0 #class attribute\n",
    "\n",
    "   #name, salary and _age are instance attributes\n",
    "   def __init__(self, name, salary, age): #initializer must have at least argument beside self\n",
    "      self.name = name\n",
    "      self.salary = salary\n",
    "      self.__age = age\n",
    "      Employee.empCount += 1\n",
    "   \n",
    "   def displayCount(self):\n",
    "       print(\"Total Employee: {0}\".format(Employee.empCount))\n",
    "\n",
    "   def displayEmployee(self):\n",
    "       print(\"Name: {0}, Salary: {1}, Age: {2}\".format(self.name,self.salary, self.__age))\n",
    "       \n",
    "   def work(self):\n",
    "      print(\"{0} started working\".format(self.name))\n",
    "\n",
    "# Create a Company class that holds instances of employees. Then assign five employee instances to an instance of the Company class.  \n",
    "class Company:\n",
    "   'Holds a list of employees'\n",
    "   def __init__(self):\n",
    "      self.employee_list = []\n",
    "   \n",
    "   def add_employee(self, employee):\n",
    "      self.employee_list.append(employee)\n",
    "   \n",
    "   def display_employees(self):\n",
    "      for employee in self.employee_list:\n",
    "         employee.displayEmployee() \n",
    "         \n",
    "   def work(self):\n",
    "      for e in self.employee_list:\n",
    "         e.work()\n",
    "\n",
    "e1 = Employee(\"Jebodiah\", 51000, 30)\n",
    "e2 = Employee(\"Greg\", 23000, 35)\n",
    "e3 = Employee(\"Dwayne\", 80000, 40)\n",
    "e4 = Employee(\"Rupert\", 43000, 45)\n",
    "e5 = Employee(\"Susan\", 120000, 50)\n",
    "Employee_List = [e1, e2, e3, e4, e5]\n",
    "\n",
    "c1 = Company()\n",
    "\n",
    "for e in Employee_List:\n",
    "   c1.add_employee(e)\n",
    "# Test the Company’s work()\n",
    "\n",
    "c1.work()"
   ]
  },
  {
   "attachments": {},
   "cell_type": "markdown",
   "metadata": {},
   "source": [
    "#### Create ten different employees from a file: read employee data from a file(.txt or .json), then  use generator  to create a list of ten employees, sort the employee list by their name,  use generator  to raise every employee’s salary by 5%, then  use generator  to create a dictionary of the employees where the keys of the dictionary items are from range(10) and print them out.  Furthermore,  use itertools’s groupby()  method to group employees by age group(younger than 20, 21-30, 31-50, 51-65, older than 65) "
   ]
  },
  {
   "cell_type": "code",
   "execution_count": null,
   "metadata": {},
   "outputs": [],
   "source": [
    "# Create ten different employees from a file: read employee data from a file(.txt or .json), \n",
    "# then use generator to create a list of ten employees, \n",
    "# sort the employee list by their name, \n",
    "# use generator to raise every employee’s salary by 5%, \n",
    "# then use generator to create a dictionary of the employees where the keys of the dictionary items are from range(10) and print them out.  \n",
    "# Furthermore,  use itertools’s groupby() method to group employees by age group(younger than 20, 21-30, 31-50, 51-65, older than 65) "
   ]
  },
  {
   "attachments": {},
   "cell_type": "markdown",
   "metadata": {},
   "source": [
    "#### Create a EmployeeD class which is a  subclass of UserDict  and overrides \\_\\_getitem\\_\\_ and \\_\\_setitem\\_\\_ methods.  Then read from your provided file to create a sequence of EmployeeD instances  using generator function  and print the total salaries. "
   ]
  },
  {
   "cell_type": "code",
   "execution_count": null,
   "metadata": {},
   "outputs": [],
   "source": [
    "# Create a EmployeeD class which is a subclass of UserDict and overrides __getitem__ and __setitem__ methods.\n",
    "# Then read from your provided file to create a sequence of EmployeeD instances using generator function and print the total salaries."
   ]
  },
  {
   "attachments": {},
   "cell_type": "markdown",
   "metadata": {},
   "source": [
    "####  Using what we have learned in Unit2  to analyze  provided real estate transaction .csv file , you can use SP500 example as reference.  Please find the highest and lowest transactions for each category of real estate: condo, residential and multi-family.  Please note you are  not allowed to use Pandas  for this problem. "
   ]
  },
  {
   "cell_type": "code",
   "execution_count": null,
   "metadata": {},
   "outputs": [],
   "source": [
    "# Using what we have learned in Unit2  to analyze  provided real estate transaction .csv file , you can use SP500 example as reference.  \n",
    "# Please find the highest and lowest transactions for each category of real estate: condo, residential and multi-family.  \n",
    "# Please note you are  not allowed to use Pandas  for this problem."
   ]
  }
 ],
 "metadata": {
  "kernelspec": {
   "display_name": "Python 3",
   "language": "python",
   "name": "python3"
  },
  "language_info": {
   "codemirror_mode": {
    "name": "ipython",
    "version": 3
   },
   "file_extension": ".py",
   "mimetype": "text/x-python",
   "name": "python",
   "nbconvert_exporter": "python",
   "pygments_lexer": "ipython3",
   "version": "3.10.9"
  },
  "orig_nbformat": 4,
  "vscode": {
   "interpreter": {
    "hash": "509a0412fec2797376ec7c65fd1a8ebeaab4056fcd88ea6df8fa9b9accf985d3"
   }
  }
 },
 "nbformat": 4,
 "nbformat_minor": 2
}
